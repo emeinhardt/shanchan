{
 "cells": [
  {
   "cell_type": "code",
   "execution_count": 2,
   "metadata": {
    "ExecuteTime": {
     "end_time": "2019-10-19T19:15:25.196227Z",
     "start_time": "2019-10-19T19:15:25.117823Z"
    }
   },
   "outputs": [],
   "source": [
    "from funcy import *\n",
    "from probdist import *"
   ]
  },
  {
   "cell_type": "code",
   "execution_count": 3,
   "metadata": {
    "ExecuteTime": {
     "end_time": "2019-10-19T19:15:29.678359Z",
     "start_time": "2019-10-19T19:15:29.672232Z"
    }
   },
   "outputs": [],
   "source": [
    "import numpy as np"
   ]
  },
  {
   "cell_type": "markdown",
   "metadata": {},
   "source": [
    "# Motivation"
   ]
  },
  {
   "cell_type": "markdown",
   "metadata": {},
   "source": [
    "The goal of the notebook is to prototype code for constructing a (locally) optimal channel code given several parameters:\n",
    " - some specification of a channel function $p(Y^* | X^*)$ with attendant descriptions of the set of source symbols $X$ and the set of channel symbols $Y$\n",
    " - some specification of a distribution over messages $p(W)$\n",
    " - some information about the nature of the channel code to construct (e.g. a fixed-length block code with block length $n$)."
   ]
  },
  {
   "cell_type": "markdown",
   "metadata": {},
   "source": [
    "# Toy model"
   ]
  },
  {
   "cell_type": "markdown",
   "metadata": {},
   "source": [
    "## BSC with erasure"
   ]
  },
  {
   "cell_type": "code",
   "execution_count": 15,
   "metadata": {
    "ExecuteTime": {
     "end_time": "2019-10-19T19:20:08.351473Z",
     "start_time": "2019-10-19T19:20:08.345363Z"
    }
   },
   "outputs": [],
   "source": [
    "Xs = {'0','1'}\n",
    "Ys = {'0','1', 'ε'}\n",
    "\n",
    "alpha = 0.1\n",
    "beta = 1 - alpha\n",
    "\n",
    "pY_X = {'0':{'0':beta,\n",
    "             '1':alpha/2,\n",
    "             'ε':alpha/2},\n",
    "        '1':{'0':alpha/2,\n",
    "             '1':beta,\n",
    "             'ε':alpha/2}}"
   ]
  },
  {
   "cell_type": "code",
   "execution_count": 16,
   "metadata": {
    "ExecuteTime": {
     "end_time": "2019-10-19T19:20:09.172648Z",
     "start_time": "2019-10-19T19:20:09.166035Z"
    }
   },
   "outputs": [
    {
     "data": {
      "text/plain": [
       "{'0': array([1., 0.]), '1': array([0., 1.])}"
      ]
     },
     "execution_count": 16,
     "metadata": {},
     "output_type": "execute_result"
    },
    {
     "data": {
      "text/plain": [
       "{'0': array([1., 0., 0.]), '1': array([0., 1., 0.]), 'ε': array([0., 0., 1.])}"
      ]
     },
     "execution_count": 16,
     "metadata": {},
     "output_type": "execute_result"
    }
   ],
   "source": [
    "Xs_OH = seqsToOneHotMap(Xs)\n",
    "Xs_OH\n",
    "\n",
    "Ys_OH = seqsToOneHotMap(Ys)\n",
    "Ys_OH"
   ]
  },
  {
   "cell_type": "code",
   "execution_count": 22,
   "metadata": {
    "ExecuteTime": {
     "end_time": "2019-10-19T19:22:41.397963Z",
     "start_time": "2019-10-19T19:22:41.392579Z"
    }
   },
   "outputs": [
    {
     "data": {
      "text/plain": [
       "array([[0.9 , 0.05],\n",
       "       [0.05, 0.9 ],\n",
       "       [0.05, 0.05]])"
      ]
     },
     "execution_count": 22,
     "metadata": {},
     "output_type": "execute_result"
    },
    {
     "data": {
      "text/plain": [
       "array([0.56899559, 0.56899559])"
      ]
     },
     "execution_count": 22,
     "metadata": {},
     "output_type": "execute_result"
    },
    {
     "data": {
      "text/plain": [
       "0.5689955935892812"
      ]
     },
     "execution_count": 22,
     "metadata": {},
     "output_type": "execute_result"
    }
   ],
   "source": [
    "pY_X_np = condDistFamilyToNP(pY_X)\n",
    "pY_X_np\n",
    "H_np(pY_X_np) #conditional entropies\n",
    "H_np(pY_X_np, distToNP(Uniform(Xs))) #expected conditional entropy"
   ]
  },
  {
   "cell_type": "code",
   "execution_count": 20,
   "metadata": {
    "ExecuteTime": {
     "end_time": "2019-10-19T19:21:20.499941Z",
     "start_time": "2019-10-19T19:21:20.493065Z"
    }
   },
   "outputs": [
    {
     "data": {
      "text/plain": [
       "array([0.9 , 0.05, 0.05])"
      ]
     },
     "execution_count": 20,
     "metadata": {},
     "output_type": "execute_result"
    },
    {
     "data": {
      "text/plain": [
       "0.5689955935892812"
      ]
     },
     "execution_count": 20,
     "metadata": {},
     "output_type": "execute_result"
    }
   ],
   "source": [
    "pY_X_np @ Xs_OH['0'] #p(Y | X = 0)\n",
    "H_np(pY_X_np @ Xs_OH['0']) #entropy of that distribution"
   ]
  },
  {
   "cell_type": "code",
   "execution_count": null,
   "metadata": {},
   "outputs": [],
   "source": []
  }
 ],
 "metadata": {
  "kernelspec": {
   "display_name": "Python 3",
   "language": "python",
   "name": "python3"
  },
  "language_info": {
   "codemirror_mode": {
    "name": "ipython",
    "version": 3
   },
   "file_extension": ".py",
   "mimetype": "text/x-python",
   "name": "python",
   "nbconvert_exporter": "python",
   "pygments_lexer": "ipython3",
   "version": "3.7.4"
  },
  "toc": {
   "base_numbering": 1,
   "nav_menu": {},
   "number_sections": true,
   "sideBar": true,
   "skip_h1_title": false,
   "title_cell": "Table of Contents",
   "title_sidebar": "Contents",
   "toc_cell": false,
   "toc_position": {},
   "toc_section_display": true,
   "toc_window_display": false
  }
 },
 "nbformat": 4,
 "nbformat_minor": 2
}
