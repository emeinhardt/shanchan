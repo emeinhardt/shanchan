{
 "cells": [
  {
   "cell_type": "code",
   "execution_count": 2,
   "metadata": {
    "ExecuteTime": {
     "end_time": "2019-10-19T19:15:25.196227Z",
     "start_time": "2019-10-19T19:15:25.117823Z"
    }
   },
   "outputs": [],
   "source": [
    "from funcy import *\n",
    "from probdist import *"
   ]
  },
  {
   "cell_type": "code",
   "execution_count": 3,
   "metadata": {
    "ExecuteTime": {
     "end_time": "2019-10-19T19:15:29.678359Z",
     "start_time": "2019-10-19T19:15:29.672232Z"
    }
   },
   "outputs": [],
   "source": [
    "import numpy as np"
   ]
  },
  {
   "cell_type": "markdown",
   "metadata": {},
   "source": [
    "# Motivation"
   ]
  },
  {
   "cell_type": "markdown",
   "metadata": {},
   "source": [
    "The goal of the notebook is to prototype code for constructing a (locally) optimal channel code given several parameters:\n",
    " - some specification of a channel function $p(Y^* | X^*)$ with attendant descriptions of the set of source symbols $X$ and the set of channel symbols $Y$\n",
    " - some specification of a distribution over messages $p(W)$\n",
    " - some information about the nature of the channel code to construct (e.g. a fixed-length block code with block length $n$)."
   ]
  },
  {
   "cell_type": "markdown",
   "metadata": {},
   "source": [
    "# Toy model"
   ]
  },
  {
   "cell_type": "markdown",
   "metadata": {},
   "source": [
    "## BSC with erasure"
   ]
  },
  {
   "cell_type": "code",
   "execution_count": 23,
   "metadata": {
    "ExecuteTime": {
     "end_time": "2019-10-19T19:29:42.010485Z",
     "start_time": "2019-10-19T19:29:42.004424Z"
    }
   },
   "outputs": [],
   "source": [
    "from copy import deepcopy"
   ]
  },
  {
   "cell_type": "code",
   "execution_count": 15,
   "metadata": {
    "ExecuteTime": {
     "end_time": "2019-10-19T19:20:08.351473Z",
     "start_time": "2019-10-19T19:20:08.345363Z"
    }
   },
   "outputs": [],
   "source": [
    "Xs = {'0','1'}\n",
    "Ys = {'0','1', 'ε'}\n",
    "\n",
    "alpha = 0.1\n",
    "beta = 1 - alpha\n",
    "\n",
    "pY_X = {'0':{'0':beta,\n",
    "             '1':alpha/2,\n",
    "             'ε':alpha/2},\n",
    "        '1':{'0':alpha/2,\n",
    "             '1':beta,\n",
    "             'ε':alpha/2}}\n",
    "\n",
    "BSC_erasure_channel_dist = deepcopy(pY_X)"
   ]
  },
  {
   "cell_type": "code",
   "execution_count": 16,
   "metadata": {
    "ExecuteTime": {
     "end_time": "2019-10-19T19:20:09.172648Z",
     "start_time": "2019-10-19T19:20:09.166035Z"
    }
   },
   "outputs": [
    {
     "data": {
      "text/plain": [
       "{'0': array([1., 0.]), '1': array([0., 1.])}"
      ]
     },
     "execution_count": 16,
     "metadata": {},
     "output_type": "execute_result"
    },
    {
     "data": {
      "text/plain": [
       "{'0': array([1., 0., 0.]), '1': array([0., 1., 0.]), 'ε': array([0., 0., 1.])}"
      ]
     },
     "execution_count": 16,
     "metadata": {},
     "output_type": "execute_result"
    }
   ],
   "source": [
    "Xs_OH = seqsToOneHotMap(Xs)\n",
    "Xs_OH\n",
    "\n",
    "Ys_OH = seqsToOneHotMap(Ys)\n",
    "Ys_OH"
   ]
  },
  {
   "cell_type": "code",
   "execution_count": 22,
   "metadata": {
    "ExecuteTime": {
     "end_time": "2019-10-19T19:22:41.397963Z",
     "start_time": "2019-10-19T19:22:41.392579Z"
    }
   },
   "outputs": [
    {
     "data": {
      "text/plain": [
       "array([[0.9 , 0.05],\n",
       "       [0.05, 0.9 ],\n",
       "       [0.05, 0.05]])"
      ]
     },
     "execution_count": 22,
     "metadata": {},
     "output_type": "execute_result"
    },
    {
     "data": {
      "text/plain": [
       "array([0.56899559, 0.56899559])"
      ]
     },
     "execution_count": 22,
     "metadata": {},
     "output_type": "execute_result"
    },
    {
     "data": {
      "text/plain": [
       "0.5689955935892812"
      ]
     },
     "execution_count": 22,
     "metadata": {},
     "output_type": "execute_result"
    }
   ],
   "source": [
    "pY_X_np = condDistFamilyToNP(pY_X)\n",
    "pY_X_np\n",
    "H_np(pY_X_np) #conditional entropies\n",
    "H_np(pY_X_np, distToNP(Uniform(Xs))) #expected conditional entropy"
   ]
  },
  {
   "cell_type": "code",
   "execution_count": 20,
   "metadata": {
    "ExecuteTime": {
     "end_time": "2019-10-19T19:21:20.499941Z",
     "start_time": "2019-10-19T19:21:20.493065Z"
    }
   },
   "outputs": [
    {
     "data": {
      "text/plain": [
       "array([0.9 , 0.05, 0.05])"
      ]
     },
     "execution_count": 20,
     "metadata": {},
     "output_type": "execute_result"
    },
    {
     "data": {
      "text/plain": [
       "0.5689955935892812"
      ]
     },
     "execution_count": 20,
     "metadata": {},
     "output_type": "execute_result"
    }
   ],
   "source": [
    "pY_X_np @ Xs_OH['0'] #p(Y | X = 0)\n",
    "H_np(pY_X_np @ Xs_OH['0']) #entropy of that distribution"
   ]
  },
  {
   "cell_type": "markdown",
   "metadata": {},
   "source": [
    "## Normal BSC"
   ]
  },
  {
   "cell_type": "code",
   "execution_count": 24,
   "metadata": {
    "ExecuteTime": {
     "end_time": "2019-10-19T19:30:35.671240Z",
     "start_time": "2019-10-19T19:30:35.665464Z"
    }
   },
   "outputs": [],
   "source": [
    "Xs = {'0','1'}\n",
    "Ys = {'0','1'}\n",
    "\n",
    "alpha = 0.1\n",
    "beta = 1 - alpha\n",
    "\n",
    "pY_X = {'0':{'0':beta,\n",
    "             '1':alpha},\n",
    "        '1':{'0':alpha,\n",
    "             '1':beta}}\n",
    "\n",
    "BSC_channel_dist = deepcopy(pY_X)"
   ]
  },
  {
   "cell_type": "code",
   "execution_count": 25,
   "metadata": {
    "ExecuteTime": {
     "end_time": "2019-10-19T19:30:44.735076Z",
     "start_time": "2019-10-19T19:30:44.727903Z"
    }
   },
   "outputs": [
    {
     "data": {
      "text/plain": [
       "{'0': array([1., 0.]), '1': array([0., 1.])}"
      ]
     },
     "execution_count": 25,
     "metadata": {},
     "output_type": "execute_result"
    },
    {
     "data": {
      "text/plain": [
       "{'0': array([1., 0.]), '1': array([0., 1.])}"
      ]
     },
     "execution_count": 25,
     "metadata": {},
     "output_type": "execute_result"
    }
   ],
   "source": [
    "Xs_OH = seqsToOneHotMap(Xs)\n",
    "Xs_OH\n",
    "\n",
    "Ys_OH = seqsToOneHotMap(Ys)\n",
    "Ys_OH"
   ]
  },
  {
   "cell_type": "code",
   "execution_count": 26,
   "metadata": {
    "ExecuteTime": {
     "end_time": "2019-10-19T19:30:50.181180Z",
     "start_time": "2019-10-19T19:30:50.166441Z"
    }
   },
   "outputs": [
    {
     "data": {
      "text/plain": [
       "array([[0.9, 0.1],\n",
       "       [0.1, 0.9]])"
      ]
     },
     "execution_count": 26,
     "metadata": {},
     "output_type": "execute_result"
    },
    {
     "data": {
      "text/plain": [
       "array([0.46899559, 0.46899559])"
      ]
     },
     "execution_count": 26,
     "metadata": {},
     "output_type": "execute_result"
    },
    {
     "data": {
      "text/plain": [
       "0.4689955935892812"
      ]
     },
     "execution_count": 26,
     "metadata": {},
     "output_type": "execute_result"
    }
   ],
   "source": [
    "pY_X_np = condDistFamilyToNP(pY_X)\n",
    "pY_X_np\n",
    "H_np(pY_X_np) #conditional entropies\n",
    "H_np(pY_X_np, distToNP(Uniform(Xs))) #expected conditional entropy"
   ]
  },
  {
   "cell_type": "code",
   "execution_count": 32,
   "metadata": {
    "ExecuteTime": {
     "end_time": "2019-10-19T19:46:54.247436Z",
     "start_time": "2019-10-19T19:46:54.237840Z"
    }
   },
   "outputs": [
    {
     "data": {
      "text/plain": [
       "0.5"
      ]
     },
     "execution_count": 32,
     "metadata": {},
     "output_type": "execute_result"
    },
    {
     "data": {
      "text/plain": [
       "array([0.5, 0.5])"
      ]
     },
     "execution_count": 32,
     "metadata": {},
     "output_type": "execute_result"
    },
    {
     "data": {
      "text/plain": [
       "1.0"
      ]
     },
     "execution_count": 32,
     "metadata": {},
     "output_type": "execute_result"
    },
    {
     "data": {
      "text/plain": [
       "0.5310044064107188"
      ]
     },
     "execution_count": 32,
     "metadata": {},
     "output_type": "execute_result"
    }
   ],
   "source": [
    "(0.5 * 0.9) + (0.5*0.1)\n",
    "marginal_np(pY_X_np.T, \n",
    "            distToNP(Uniform(Xs)))\n",
    "H_np(marginal_np(pY_X_np.T, \n",
    "                 distToNP(Uniform(Xs))))\n",
    "H_np(marginal_np(pY_X_np.T, \n",
    "                 distToNP(Uniform(Xs)))) - H_np(pY_X_np, distToNP(Uniform(Xs))) #mutual information between X, Y"
   ]
  },
  {
   "cell_type": "code",
   "execution_count": 33,
   "metadata": {
    "ExecuteTime": {
     "end_time": "2019-10-19T19:47:19.092906Z",
     "start_time": "2019-10-19T19:47:19.089942Z"
    }
   },
   "outputs": [
    {
     "data": {
      "text/plain": [
       "1.0"
      ]
     },
     "execution_count": 33,
     "metadata": {},
     "output_type": "execute_result"
    }
   ],
   "source": [
    "H_np(distToNP(Uniform(Xs))) #H(X)"
   ]
  },
  {
   "cell_type": "code",
   "execution_count": 27,
   "metadata": {
    "ExecuteTime": {
     "end_time": "2019-10-19T19:30:58.600372Z",
     "start_time": "2019-10-19T19:30:58.586322Z"
    }
   },
   "outputs": [
    {
     "data": {
      "text/plain": [
       "array([0.9, 0.1])"
      ]
     },
     "execution_count": 27,
     "metadata": {},
     "output_type": "execute_result"
    },
    {
     "data": {
      "text/plain": [
       "0.4689955935892812"
      ]
     },
     "execution_count": 27,
     "metadata": {},
     "output_type": "execute_result"
    }
   ],
   "source": [
    "pY_X_np @ Xs_OH['0'] #p(Y | X = 0)\n",
    "H_np(pY_X_np @ Xs_OH['0']) #entropy of that distribution"
   ]
  },
  {
   "cell_type": "code",
   "execution_count": 35,
   "metadata": {
    "ExecuteTime": {
     "end_time": "2019-10-19T19:51:14.204495Z",
     "start_time": "2019-10-19T19:51:14.197259Z"
    }
   },
   "outputs": [
    {
     "data": {
      "text/plain": [
       "array([0.53100441])"
      ]
     },
     "execution_count": 35,
     "metadata": {},
     "output_type": "execute_result"
    }
   ],
   "source": [
    "def I_np(pY_X_np, pX_np):\n",
    "    '''\n",
    "    Given an m x n conditional distribution (rows = distributions),\n",
    "    and a prior, returns the mutual information between the two variables.\n",
    "    '''\n",
    "    equivocation = H_np(pY_X_np, pX_np),\n",
    "    pY_marginal = marginal_np(pY_X_np, pX_np)\n",
    "    HY_marginal = H_np(pY_marginal)\n",
    "    I = HY_marginal - equivocation\n",
    "    return I\n",
    "\n",
    "I_np(pY_X_np, distToNP(Uniform(Xs)))"
   ]
  },
  {
   "cell_type": "code",
   "execution_count": null,
   "metadata": {},
   "outputs": [],
   "source": []
  }
 ],
 "metadata": {
  "kernelspec": {
   "display_name": "Python 3",
   "language": "python",
   "name": "python3"
  },
  "language_info": {
   "codemirror_mode": {
    "name": "ipython",
    "version": 3
   },
   "file_extension": ".py",
   "mimetype": "text/x-python",
   "name": "python",
   "nbconvert_exporter": "python",
   "pygments_lexer": "ipython3",
   "version": "3.7.4"
  },
  "toc": {
   "base_numbering": 1,
   "nav_menu": {},
   "number_sections": true,
   "sideBar": true,
   "skip_h1_title": false,
   "title_cell": "Table of Contents",
   "title_sidebar": "Contents",
   "toc_cell": false,
   "toc_position": {},
   "toc_section_display": true,
   "toc_window_display": false
  }
 },
 "nbformat": 4,
 "nbformat_minor": 2
}
