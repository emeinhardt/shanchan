{
 "cells": [
  {
   "cell_type": "markdown",
   "metadata": {},
   "source": [
    "This is uh 'documentation' of...relevant highlights of the libraries used here."
   ]
  },
  {
   "cell_type": "markdown",
   "metadata": {},
   "source": [
    "**Check out [funcy](https://funcy.readthedocs.io/en/stable/).**"
   ]
  },
  {
   "cell_type": "markdown",
   "metadata": {},
   "source": [
    "# `boilerplate.py`"
   ]
  },
  {
   "cell_type": "code",
   "execution_count": 1,
   "metadata": {
    "ExecuteTime": {
     "end_time": "2019-10-19T19:10:59.646111Z",
     "start_time": "2019-10-19T19:10:59.594382Z"
    }
   },
   "outputs": [],
   "source": [
    "from boilerplate import *"
   ]
  },
  {
   "cell_type": "markdown",
   "metadata": {},
   "source": [
    "## Manipulating collections"
   ]
  },
  {
   "cell_type": "markdown",
   "metadata": {},
   "source": [
    "(Mostly replaced/done better by `funcy`.)"
   ]
  },
  {
   "cell_type": "code",
   "execution_count": 2,
   "metadata": {
    "ExecuteTime": {
     "end_time": "2019-10-19T19:10:59.729072Z",
     "start_time": "2019-10-19T19:10:59.647250Z"
    }
   },
   "outputs": [
    {
     "data": {
      "text/plain": [
       "{-1, 1, 3, 4, 5}"
      ]
     },
     "execution_count": 2,
     "metadata": {},
     "output_type": "execute_result"
    }
   ],
   "source": [
    "Ss = [{1,3}, {4,5}, {-1,1}]\n",
    "union(Ss)"
   ]
  },
  {
   "cell_type": "code",
   "execution_count": 3,
   "metadata": {
    "ExecuteTime": {
     "end_time": "2019-10-19T19:10:59.837619Z",
     "start_time": "2019-10-19T19:10:59.732470Z"
    }
   },
   "outputs": [
    {
     "data": {
      "text/plain": [
       "['a', 'a', 'b', 'a', 'b', 'a', 'b', 'b', 'b', 'a']"
      ]
     },
     "execution_count": 3,
     "metadata": {},
     "output_type": "execute_result"
    },
    {
     "name": "stdout",
     "output_type": "stream",
     "text": [
      "Random key: b\n",
      "value ⟶ 1\n"
     ]
    },
    {
     "data": {
      "text/plain": [
       "{'key': 'b', 'val': 1}"
      ]
     },
     "execution_count": 3,
     "metadata": {},
     "output_type": "execute_result"
    }
   ],
   "source": [
    "d0 = {'a':0,'b':1}\n",
    "\n",
    "list(repeatedly(lambda : getRandomKey(d0), 10))\n",
    "testRandomKey(d0)"
   ]
  },
  {
   "cell_type": "code",
   "execution_count": 4,
   "metadata": {
    "ExecuteTime": {
     "end_time": "2019-10-19T19:10:59.985794Z",
     "start_time": "2019-10-19T19:10:59.844714Z"
    }
   },
   "outputs": [
    {
     "data": {
      "text/plain": [
       "{'a': 0, 'b': 1}"
      ]
     },
     "execution_count": 4,
     "metadata": {},
     "output_type": "execute_result"
    },
    {
     "data": {
      "text/plain": [
       "{'a': -3, 'b': 1}"
      ]
     },
     "execution_count": 4,
     "metadata": {},
     "output_type": "execute_result"
    },
    {
     "data": {
      "text/plain": [
       "{'a': -3, 'b': 1}"
      ]
     },
     "execution_count": 4,
     "metadata": {},
     "output_type": "execute_result"
    }
   ],
   "source": [
    "d0\n",
    "edit_dict(d0, 'a', -3) #stateful, but composable dict edit\n",
    "d0"
   ]
  },
  {
   "cell_type": "code",
   "execution_count": 5,
   "metadata": {
    "ExecuteTime": {
     "end_time": "2019-10-19T19:11:00.058431Z",
     "start_time": "2019-10-19T19:10:59.991975Z"
    }
   },
   "outputs": [
    {
     "data": {
      "text/plain": [
       "{'a': -3, 'b': 1}"
      ]
     },
     "execution_count": 5,
     "metadata": {},
     "output_type": "execute_result"
    },
    {
     "data": {
      "text/plain": [
       "{'a': -3, 'b': 1}"
      ]
     },
     "execution_count": 5,
     "metadata": {},
     "output_type": "execute_result"
    },
    {
     "data": {
      "text/plain": [
       "{'a': -3, 'b': 1}"
      ]
     },
     "execution_count": 5,
     "metadata": {},
     "output_type": "execute_result"
    }
   ],
   "source": [
    "d0\n",
    "modify_dict(d0, 'a', -3) #pure composable dict edit\n",
    "d0"
   ]
  },
  {
   "cell_type": "markdown",
   "metadata": {},
   "source": [
    "## File IO"
   ]
  },
  {
   "cell_type": "markdown",
   "metadata": {},
   "source": [
    "Scroll through `boilerplate.py`"
   ]
  },
  {
   "cell_type": "markdown",
   "metadata": {},
   "source": [
    "Of *particular note*:\n"
   ]
  },
  {
   "cell_type": "code",
   "execution_count": 6,
   "metadata": {
    "ExecuteTime": {
     "end_time": "2019-10-19T19:11:00.181775Z",
     "start_time": "2019-10-19T19:11:00.060255Z"
    }
   },
   "outputs": [],
   "source": [
    "exportMatrixMetadata?"
   ]
  },
  {
   "cell_type": "markdown",
   "metadata": {},
   "source": [
    "# `string_utils`"
   ]
  },
  {
   "cell_type": "code",
   "execution_count": 7,
   "metadata": {
    "ExecuteTime": {
     "end_time": "2019-10-19T19:11:00.225185Z",
     "start_time": "2019-10-19T19:11:00.183422Z"
    }
   },
   "outputs": [],
   "source": [
    "from string_utils import *"
   ]
  },
  {
   "cell_type": "markdown",
   "metadata": {},
   "source": [
    "# Formal language theoretic-flavored stuff"
   ]
  },
  {
   "cell_type": "code",
   "execution_count": 8,
   "metadata": {
    "ExecuteTime": {
     "end_time": "2019-10-19T19:11:00.326133Z",
     "start_time": "2019-10-19T19:11:00.226841Z"
    }
   },
   "outputs": [
    {
     "data": {
      "text/plain": [
       "'⋊'"
      ]
     },
     "execution_count": 8,
     "metadata": {},
     "output_type": "execute_result"
    },
    {
     "data": {
      "text/plain": [
       "'⋉'"
      ]
     },
     "execution_count": 8,
     "metadata": {},
     "output_type": "execute_result"
    },
    {
     "data": {
      "text/plain": [
       "{'⋉', '⋊'}"
      ]
     },
     "execution_count": 8,
     "metadata": {},
     "output_type": "execute_result"
    }
   ],
   "source": [
    "leftEdge\n",
    "rightEdge\n",
    "edgeSymbols"
   ]
  },
  {
   "cell_type": "code",
   "execution_count": 9,
   "metadata": {
    "ExecuteTime": {
     "end_time": "2019-10-19T19:11:00.429201Z",
     "start_time": "2019-10-19T19:11:00.337790Z"
    }
   },
   "outputs": [],
   "source": [
    "X = ['a','i','p']"
   ]
  },
  {
   "cell_type": "code",
   "execution_count": 10,
   "metadata": {
    "ExecuteTime": {
     "end_time": "2019-10-19T19:11:00.515844Z",
     "start_time": "2019-10-19T19:11:00.430612Z"
    }
   },
   "outputs": [
    {
     "data": {
      "text/plain": [
       "{('a', 'a'),\n",
       " ('a', 'i'),\n",
       " ('a', 'p'),\n",
       " ('i', 'a'),\n",
       " ('i', 'i'),\n",
       " ('i', 'p'),\n",
       " ('p', 'a'),\n",
       " ('p', 'i'),\n",
       " ('p', 'p')}"
      ]
     },
     "execution_count": 10,
     "metadata": {},
     "output_type": "execute_result"
    }
   ],
   "source": [
    "set(sigmaK(X, 2))"
   ]
  },
  {
   "cell_type": "code",
   "execution_count": 11,
   "metadata": {
    "ExecuteTime": {
     "end_time": "2019-10-19T19:11:00.597852Z",
     "start_time": "2019-10-19T19:11:00.521554Z"
    }
   },
   "outputs": [
    {
     "data": {
      "text/plain": [
       "('i', 'a', 'a', 'p', 'p', 'a', 'a', 'i', 'i', 'p', 'p', 'p')"
      ]
     },
     "execution_count": 11,
     "metadata": {},
     "output_type": "execute_result"
    }
   ],
   "source": [
    "ds2t(randomString(X, 12, hasLeftEdge=False))"
   ]
  },
  {
   "cell_type": "markdown",
   "metadata": {},
   "source": [
    "## Hamming distance"
   ]
  },
  {
   "cell_type": "code",
   "execution_count": 12,
   "metadata": {
    "ExecuteTime": {
     "end_time": "2019-10-19T19:11:00.685754Z",
     "start_time": "2019-10-19T19:11:00.603182Z"
    }
   },
   "outputs": [
    {
     "data": {
      "text/plain": [
       "False"
      ]
     },
     "execution_count": 12,
     "metadata": {},
     "output_type": "execute_result"
    },
    {
     "data": {
      "text/plain": [
       "True"
      ]
     },
     "execution_count": 12,
     "metadata": {},
     "output_type": "execute_result"
    }
   ],
   "source": [
    "d_s('p', 'p')\n",
    "d_s('p', 'i')"
   ]
  },
  {
   "cell_type": "code",
   "execution_count": 13,
   "metadata": {
    "ExecuteTime": {
     "end_time": "2019-10-19T19:11:00.778880Z",
     "start_time": "2019-10-19T19:11:00.691858Z"
    }
   },
   "outputs": [
    {
     "data": {
      "text/plain": [
       "0"
      ]
     },
     "execution_count": 13,
     "metadata": {},
     "output_type": "execute_result"
    },
    {
     "data": {
      "text/plain": [
       "1"
      ]
     },
     "execution_count": 13,
     "metadata": {},
     "output_type": "execute_result"
    },
    {
     "data": {
      "text/plain": [
       "2"
      ]
     },
     "execution_count": 13,
     "metadata": {},
     "output_type": "execute_result"
    },
    {
     "data": {
      "text/plain": [
       "inf"
      ]
     },
     "execution_count": 13,
     "metadata": {},
     "output_type": "execute_result"
    }
   ],
   "source": [
    "d_h('p', 'p')\n",
    "d_h('p', 'i')\n",
    "d_h('p.i', 'i.p')\n",
    "d_h('p.i', 'i.p.a')"
   ]
  },
  {
   "cell_type": "markdown",
   "metadata": {},
   "source": [
    "## Functions for making one-hot vectors and mapping to/from one-hot representations"
   ]
  },
  {
   "cell_type": "code",
   "execution_count": 14,
   "metadata": {
    "ExecuteTime": {
     "end_time": "2019-10-19T19:11:00.848815Z",
     "start_time": "2019-10-19T19:11:00.784713Z"
    }
   },
   "outputs": [
    {
     "data": {
      "text/plain": [
       "{'a': 0, 'i': 1, 'p': 2}"
      ]
     },
     "execution_count": 14,
     "metadata": {},
     "output_type": "execute_result"
    }
   ],
   "source": [
    "seqsToIndexMap(X)\n",
    "X_seq2idx = seqsToIndexMap(X)"
   ]
  },
  {
   "cell_type": "code",
   "execution_count": 15,
   "metadata": {
    "ExecuteTime": {
     "end_time": "2019-10-19T19:11:00.936021Z",
     "start_time": "2019-10-19T19:11:00.854388Z"
    }
   },
   "outputs": [
    {
     "data": {
      "text/plain": [
       "{0: 'a', 1: 'i', 2: 'p'}"
      ]
     },
     "execution_count": 15,
     "metadata": {},
     "output_type": "execute_result"
    }
   ],
   "source": [
    "indexToSeqMap(X)\n",
    "X_idx2seq = indexToSeqMap(X)"
   ]
  },
  {
   "cell_type": "code",
   "execution_count": 16,
   "metadata": {
    "ExecuteTime": {
     "end_time": "2019-10-19T19:11:01.025083Z",
     "start_time": "2019-10-19T19:11:00.938464Z"
    }
   },
   "outputs": [
    {
     "data": {
      "text/plain": [
       "array([[1., 0., 0.],\n",
       "       [0., 1., 0.],\n",
       "       [0., 0., 1.]])"
      ]
     },
     "execution_count": 16,
     "metadata": {},
     "output_type": "execute_result"
    }
   ],
   "source": [
    "seqMapToOneHots(X_seq2idx)\n",
    "X_OH = seqMapToOneHots(X_seq2idx)"
   ]
  },
  {
   "cell_type": "code",
   "execution_count": 17,
   "metadata": {
    "ExecuteTime": {
     "end_time": "2019-10-19T19:11:01.107385Z",
     "start_time": "2019-10-19T19:11:01.030615Z"
    }
   },
   "outputs": [
    {
     "data": {
      "text/plain": [
       "array([1., 0., 0.])"
      ]
     },
     "execution_count": 17,
     "metadata": {},
     "output_type": "execute_result"
    }
   ],
   "source": [
    "seqToOneHot('a', X_seq2idx, seqMapToOneHots(X_seq2idx))"
   ]
  },
  {
   "cell_type": "code",
   "execution_count": 18,
   "metadata": {
    "ExecuteTime": {
     "end_time": "2019-10-19T19:11:01.191898Z",
     "start_time": "2019-10-19T19:11:01.112057Z"
    }
   },
   "outputs": [
    {
     "data": {
      "text/plain": [
       "{'a': array([1., 0., 0.]), 'i': array([0., 1., 0.]), 'p': array([0., 0., 1.])}"
      ]
     },
     "execution_count": 18,
     "metadata": {},
     "output_type": "execute_result"
    }
   ],
   "source": [
    "seqsToOneHotMap(X)\n",
    "X_x2OH = seqsToOneHotMap(X)"
   ]
  },
  {
   "cell_type": "code",
   "execution_count": 19,
   "metadata": {
    "ExecuteTime": {
     "end_time": "2019-10-19T19:11:01.273607Z",
     "start_time": "2019-10-19T19:11:01.196220Z"
    }
   },
   "outputs": [
    {
     "data": {
      "text/plain": [
       "'a'"
      ]
     },
     "execution_count": 19,
     "metadata": {},
     "output_type": "execute_result"
    }
   ],
   "source": [
    "X_OH2x = oneHotToSeqMap(X)\n",
    "X_OH2x(np.array([1.,0.,0.]))"
   ]
  },
  {
   "cell_type": "code",
   "execution_count": 20,
   "metadata": {
    "ExecuteTime": {
     "end_time": "2019-10-19T19:11:01.356768Z",
     "start_time": "2019-10-19T19:11:01.277815Z"
    }
   },
   "outputs": [
    {
     "data": {
      "text/plain": [
       "<function string_utils.seqStackToIndexStack(seqStack, seqToIndexMap)>"
      ]
     },
     "execution_count": 20,
     "metadata": {},
     "output_type": "execute_result"
    }
   ],
   "source": [
    "#fixme\n",
    "seqStackToIndexStack"
   ]
  },
  {
   "cell_type": "code",
   "execution_count": 21,
   "metadata": {
    "ExecuteTime": {
     "end_time": "2019-10-19T19:11:01.443392Z",
     "start_time": "2019-10-19T19:11:01.360967Z"
    }
   },
   "outputs": [
    {
     "data": {
      "text/plain": [
       "<function string_utils.seqStackToOHstack(seqStack, seqToOHmap)>"
      ]
     },
     "execution_count": 21,
     "metadata": {},
     "output_type": "execute_result"
    }
   ],
   "source": [
    "#fixme\n",
    "seqStackToOHstack"
   ]
  },
  {
   "cell_type": "code",
   "execution_count": 22,
   "metadata": {
    "ExecuteTime": {
     "end_time": "2019-10-19T19:11:01.520696Z",
     "start_time": "2019-10-19T19:11:01.447652Z"
    }
   },
   "outputs": [
    {
     "data": {
      "text/plain": [
       "<function string_utils.OHstackToSeqStack(OHstack, OHtoSeqMap)>"
      ]
     },
     "execution_count": 22,
     "metadata": {},
     "output_type": "execute_result"
    }
   ],
   "source": [
    "#fixme\n",
    "OHstackToSeqStack"
   ]
  },
  {
   "cell_type": "markdown",
   "metadata": {},
   "source": [
    "# `probdist.py`"
   ]
  },
  {
   "cell_type": "code",
   "execution_count": 23,
   "metadata": {
    "ExecuteTime": {
     "end_time": "2019-10-19T19:11:01.658035Z",
     "start_time": "2019-10-19T19:11:01.523176Z"
    }
   },
   "outputs": [],
   "source": [
    "from probdist import *"
   ]
  },
  {
   "cell_type": "markdown",
   "metadata": {},
   "source": [
    "Does various probability related manipulations of two families of data structures representing probability distributions:\n",
    " - Interpretable, easily spot-inspected **dict**-like representations of unconditional distributions (dict mapping from outcomes to probability mass) and conditional distributions (dict mapping from conditions to outcomes to probability mass). As a rule, operations on these structures *do not scale*.\n",
    " - **`numpy` ndarrays,** with 1 dimensional arrays representing probability masses and 2D arrays representing conditional distributions (with columns as distributions, except where otherwise noted). "
   ]
  },
  {
   "cell_type": "markdown",
   "metadata": {},
   "source": [
    "## ProbDists as dictionaries"
   ]
  },
  {
   "cell_type": "markdown",
   "metadata": {},
   "source": [
    "construction, normalization..."
   ]
  },
  {
   "cell_type": "code",
   "execution_count": 24,
   "metadata": {
    "ExecuteTime": {
     "end_time": "2019-10-19T19:11:01.752018Z",
     "start_time": "2019-10-19T19:11:01.658927Z"
    }
   },
   "outputs": [
    {
     "data": {
      "text/plain": [
       "1.0"
      ]
     },
     "execution_count": 24,
     "metadata": {},
     "output_type": "execute_result"
    },
    {
     "data": {
      "text/plain": [
       "20"
      ]
     },
     "execution_count": 24,
     "metadata": {},
     "output_type": "execute_result"
    },
    {
     "data": {
      "text/plain": [
       "True"
      ]
     },
     "execution_count": 24,
     "metadata": {},
     "output_type": "execute_result"
    },
    {
     "data": {
      "text/plain": [
       "False"
      ]
     },
     "execution_count": 24,
     "metadata": {},
     "output_type": "execute_result"
    },
    {
     "data": {
      "text/plain": [
       "0.0"
      ]
     },
     "execution_count": 24,
     "metadata": {},
     "output_type": "execute_result"
    },
    {
     "data": {
      "text/plain": [
       "19"
      ]
     },
     "execution_count": 24,
     "metadata": {},
     "output_type": "execute_result"
    }
   ],
   "source": [
    "fair_coin = {'H':0.5,\n",
    "             'T':0.5}\n",
    "fair_coin2 = {'H':10,\n",
    "              'T':10}\n",
    "\n",
    "norm(fair_coin)\n",
    "norm(fair_coin2)\n",
    "isNormalized(fair_coin)\n",
    "isNormalized(fair_coin2)\n",
    "normalizationDefect(fair_coin)\n",
    "normalizationDefect(fair_coin2)"
   ]
  },
  {
   "cell_type": "code",
   "execution_count": 25,
   "metadata": {
    "ExecuteTime": {
     "end_time": "2019-10-19T19:11:01.816394Z",
     "start_time": "2019-10-19T19:11:01.754151Z"
    }
   },
   "outputs": [
    {
     "data": {
      "text/plain": [
       "True"
      ]
     },
     "execution_count": 25,
     "metadata": {},
     "output_type": "execute_result"
    }
   ],
   "source": [
    "weather = {'rain':0.1,\n",
    "           'sun':0.9}\n",
    "sprinkler = {'on':0.3,\n",
    "             'off':0.7}\n",
    "grass = {('rain','on'):{'wet':0.99,\n",
    "                       'dry':0.01},\n",
    "         ('rain','off'):{'wet':0.95,\n",
    "                         'dry':0.05},\n",
    "         ('sun','on'):{'wet':0.65,\n",
    "                       'dry':0.35},\n",
    "         ('sun','off'):{'wet':0.05,\n",
    "                        'dry':0.95}}\n",
    "\n",
    "areNormalized(grass)"
   ]
  },
  {
   "cell_type": "code",
   "execution_count": 26,
   "metadata": {
    "ExecuteTime": {
     "end_time": "2019-10-19T19:11:01.922053Z",
     "start_time": "2019-10-19T19:11:01.818836Z"
    }
   },
   "outputs": [
    {
     "data": {
      "text/plain": [
       "'H': 0.5\n",
       "'T': 0.5"
      ]
     },
     "execution_count": 26,
     "metadata": {},
     "output_type": "execute_result"
    },
    {
     "data": {
      "text/plain": [
       "'H': 1/2 = 0.5\n",
       "'T': 1/2 = 0.5"
      ]
     },
     "execution_count": 26,
     "metadata": {},
     "output_type": "execute_result"
    },
    {
     "data": {
      "text/plain": [
       "'T': 1/2 = 0.5\n",
       "'H': 1/2 = 0.5"
      ]
     },
     "execution_count": 26,
     "metadata": {},
     "output_type": "execute_result"
    }
   ],
   "source": [
    "ProbDist(fair_coin)\n",
    "ProbDist(fair_coin2)\n",
    "Uniform({'H','T'})"
   ]
  },
  {
   "cell_type": "code",
   "execution_count": 27,
   "metadata": {
    "ExecuteTime": {
     "end_time": "2019-10-19T19:11:02.011295Z",
     "start_time": "2019-10-19T19:11:01.929869Z"
    }
   },
   "outputs": [],
   "source": [
    "grass_weather = {'rain':{'wet':0.99,\n",
    "                         'dry':0.01},\n",
    "                 'sun':{'wet':0.05,\n",
    "                        'dry':0.95}}"
   ]
  },
  {
   "cell_type": "code",
   "execution_count": 32,
   "metadata": {
    "ExecuteTime": {
     "end_time": "2019-10-19T19:11:38.306002Z",
     "start_time": "2019-10-19T19:11:38.298337Z"
    }
   },
   "outputs": [
    {
     "data": {
      "text/plain": [
       "'rain': 0.1\n",
       "'sun': 0.9"
      ]
     },
     "execution_count": 32,
     "metadata": {},
     "output_type": "execute_result"
    },
    {
     "data": {
      "text/plain": [
       "'on': 0.3\n",
       "'off': 0.7"
      ]
     },
     "execution_count": 32,
     "metadata": {},
     "output_type": "execute_result"
    },
    {
     "data": {
      "text/plain": [
       "{'rain': 'wet': 0.99\n",
       " 'dry': 0.01, 'sun': 'wet': 0.05\n",
       " 'dry': 0.95}"
      ]
     },
     "execution_count": 32,
     "metadata": {},
     "output_type": "execute_result"
    },
    {
     "data": {
      "text/plain": [
       "{('rain', 'on'): 'wet': 0.99\n",
       " 'dry': 0.01, ('rain', 'off'): 'wet': 0.95\n",
       " 'dry': 0.05, ('sun', 'on'): 'wet': 0.65\n",
       " 'dry': 0.35, ('sun', 'off'): 'wet': 0.05\n",
       " 'dry': 0.95}"
      ]
     },
     "execution_count": 32,
     "metadata": {},
     "output_type": "execute_result"
    }
   ],
   "source": [
    "ProbDist(weather)\n",
    "ProbDist(sprinkler)\n",
    "condDistsAsProbDists(grass_weather)\n",
    "condDistsAsProbDists(grass)"
   ]
  },
  {
   "cell_type": "code",
   "execution_count": 38,
   "metadata": {
    "ExecuteTime": {
     "end_time": "2019-10-19T19:13:04.008848Z",
     "start_time": "2019-10-19T19:13:04.000348Z"
    }
   },
   "outputs": [
    {
     "data": {
      "text/plain": [
       "dict_keys(['rain', 'sun'])"
      ]
     },
     "execution_count": 38,
     "metadata": {},
     "output_type": "execute_result"
    },
    {
     "data": {
      "text/plain": [
       "dict_keys(['rain', 'sun'])"
      ]
     },
     "execution_count": 38,
     "metadata": {},
     "output_type": "execute_result"
    },
    {
     "data": {
      "text/plain": [
       "{'dry', 'wet'}"
      ]
     },
     "execution_count": 38,
     "metadata": {},
     "output_type": "execute_result"
    },
    {
     "data": {
      "text/plain": [
       "True"
      ]
     },
     "execution_count": 38,
     "metadata": {},
     "output_type": "execute_result"
    }
   ],
   "source": [
    "conditions(ProbDist(weather)) #should be outcomes really FIXME\n",
    "# outcomes(ProbDist(weather)) #throws error FIXME\n",
    "conditions(condDistsAsProbDists(grass_weather))\n",
    "outcomes(condDistsAsProbDists(grass_weather))\n",
    "\n",
    "uniformOutcomes(condDistsAsProbDists(grass_weather))"
   ]
  },
  {
   "cell_type": "code",
   "execution_count": 29,
   "metadata": {
    "ExecuteTime": {
     "end_time": "2019-10-19T19:11:02.231266Z",
     "start_time": "2019-10-19T19:11:02.139040Z"
    }
   },
   "outputs": [
    {
     "data": {
      "text/plain": [
       "('H', 'T', 'T', 'T', 'H', 'T', 'T', 'H', 'H', 'T')"
      ]
     },
     "execution_count": 29,
     "metadata": {},
     "output_type": "execute_result"
    }
   ],
   "source": [
    "sampleFrom(ProbDist(fair_coin), 10)"
   ]
  },
  {
   "cell_type": "code",
   "execution_count": 30,
   "metadata": {
    "ExecuteTime": {
     "end_time": "2019-10-19T19:11:02.356217Z",
     "start_time": "2019-10-19T19:11:02.235507Z"
    }
   },
   "outputs": [
    {
     "data": {
      "text/plain": [
       "Counter({'H': 3, 'T': 2})"
      ]
     },
     "execution_count": 30,
     "metadata": {},
     "output_type": "execute_result"
    }
   ],
   "source": [
    "frequencies(['H','T', 'H', 'T', 'H'])"
   ]
  },
  {
   "cell_type": "code",
   "execution_count": 44,
   "metadata": {
    "ExecuteTime": {
     "end_time": "2019-10-19T19:14:38.892696Z",
     "start_time": "2019-10-19T19:14:38.883765Z"
    }
   },
   "outputs": [
    {
     "data": {
      "text/plain": [
       "{'rain': 0.1, 'sun': 0.9}"
      ]
     },
     "execution_count": 44,
     "metadata": {},
     "output_type": "execute_result"
    },
    {
     "data": {
      "text/plain": [
       "0.1"
      ]
     },
     "execution_count": 44,
     "metadata": {},
     "output_type": "execute_result"
    },
    {
     "data": {
      "text/plain": [
       "0.1"
      ]
     },
     "execution_count": 44,
     "metadata": {},
     "output_type": "execute_result"
    },
    {
     "data": {
      "text/plain": [
       "3.321928094887362"
      ]
     },
     "execution_count": 44,
     "metadata": {},
     "output_type": "execute_result"
    },
    {
     "data": {
      "text/plain": [
       "0.4689955935892812"
      ]
     },
     "execution_count": 44,
     "metadata": {},
     "output_type": "execute_result"
    }
   ],
   "source": [
    "weather\n",
    "weather['rain']\n",
    "P('rain', ProbDist(weather))\n",
    "h('rain', ProbDist(weather))\n",
    "H(ProbDist(weather))"
   ]
  },
  {
   "cell_type": "markdown",
   "metadata": {},
   "source": [
    "## As numpy arrays"
   ]
  },
  {
   "cell_type": "code",
   "execution_count": null,
   "metadata": {},
   "outputs": [],
   "source": []
  }
 ],
 "metadata": {
  "kernelspec": {
   "display_name": "Python 3",
   "language": "python",
   "name": "python3"
  },
  "language_info": {
   "codemirror_mode": {
    "name": "ipython",
    "version": 3
   },
   "file_extension": ".py",
   "mimetype": "text/x-python",
   "name": "python",
   "nbconvert_exporter": "python",
   "pygments_lexer": "ipython3",
   "version": "3.7.4"
  },
  "toc": {
   "base_numbering": 1,
   "nav_menu": {},
   "number_sections": true,
   "sideBar": true,
   "skip_h1_title": false,
   "title_cell": "Table of Contents",
   "title_sidebar": "Contents",
   "toc_cell": false,
   "toc_position": {},
   "toc_section_display": true,
   "toc_window_display": false
  }
 },
 "nbformat": 4,
 "nbformat_minor": 2
}
